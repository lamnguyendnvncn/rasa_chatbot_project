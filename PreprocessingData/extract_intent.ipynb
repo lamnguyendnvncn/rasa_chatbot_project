{
 "cells": [
  {
   "cell_type": "code",
   "execution_count": 1,
   "metadata": {},
   "outputs": [],
   "source": [
    "import pandas as pd\n",
    "import numpy as np"
   ]
  },
  {
   "cell_type": "code",
   "execution_count": 2,
   "metadata": {},
   "outputs": [
    {
     "data": {
      "text/html": [
       "<div>\n",
       "<style scoped>\n",
       "    .dataframe tbody tr th:only-of-type {\n",
       "        vertical-align: middle;\n",
       "    }\n",
       "\n",
       "    .dataframe tbody tr th {\n",
       "        vertical-align: top;\n",
       "    }\n",
       "\n",
       "    .dataframe thead th {\n",
       "        text-align: right;\n",
       "    }\n",
       "</style>\n",
       "<table border=\"1\" class=\"dataframe\">\n",
       "  <thead>\n",
       "    <tr style=\"text-align: right;\">\n",
       "      <th></th>\n",
       "      <th>rasa_nlu_data</th>\n",
       "    </tr>\n",
       "  </thead>\n",
       "  <tbody>\n",
       "    <tr>\n",
       "      <th>common_examples</th>\n",
       "      <td>[{'text': '\n",
       "Good morning, I want to apply for ...</td>\n",
       "    </tr>\n",
       "    <tr>\n",
       "      <th>entity_synonyms</th>\n",
       "      <td>[{'value': 'EEO', 'synonyms': ['AAP', 'Affirma...</td>\n",
       "    </tr>\n",
       "    <tr>\n",
       "      <th>lookup_tables</th>\n",
       "      <td>[{'name': 'recruiting_information', 'elements'...</td>\n",
       "    </tr>\n",
       "    <tr>\n",
       "      <th>regex_features</th>\n",
       "      <td>[]</td>\n",
       "    </tr>\n",
       "  </tbody>\n",
       "</table>\n",
       "</div>"
      ],
      "text/plain": [
       "                                                     rasa_nlu_data\n",
       "common_examples  [{'text': '\n",
       "Good morning, I want to apply for ...\n",
       "entity_synonyms  [{'value': 'EEO', 'synonyms': ['AAP', 'Affirma...\n",
       "lookup_tables    [{'name': 'recruiting_information', 'elements'...\n",
       "regex_features                                                  []"
      ]
     },
     "execution_count": 2,
     "metadata": {},
     "output_type": "execute_result"
    }
   ],
   "source": [
    "df=pd.read_json(\"data.json\")\n",
    "df.head()"
   ]
  },
  {
   "cell_type": "code",
   "execution_count": 3,
   "metadata": {},
   "outputs": [],
   "source": [
    "intent_list=list()\n",
    "text_list=list()\n",
    "for i in df['rasa_nlu_data']['common_examples']:\n",
    "    intent_list.append(i['intent'])\n",
    "    text_list.append(i['text'])\n",
    "intent_text=dict()\n",
    "for i in range(len(intent_list)):\n",
    "    intent_text[intent_list[i]]=[]\n",
    "for i in range(len(intent_list)):\n",
    "    intent_text[intent_list[i]].append(text_list[i])  \n"
   ]
  },
  {
   "cell_type": "code",
   "execution_count": 4,
   "metadata": {},
   "outputs": [],
   "source": [
    "num_text_per_intent=dict()\n",
    "for keys,values in intent_text.items():\n",
    "    num_text_per_intent[keys]=len(values)\n",
    "most_text=max(num_text_per_intent.values())"
   ]
  },
  {
   "cell_type": "code",
   "execution_count": 5,
   "metadata": {},
   "outputs": [],
   "source": [
    "dataframe={'intent_name':[],'text':[]}\n",
    "for keys,values in intent_text.items():\n",
    "    for i in values:\n",
    "        dataframe['intent_name'].append(keys)\n",
    "        dataframe['text'].append(i)\n",
    "df=pd.DataFrame(dataframe)\n",
    "# print(df[df['intent_name']=='Jobs_Location'])\n",
    "df_dict=dict()\n",
    "for i in intent_list:\n",
    "    df_dict[i]=df[df['intent_name']==i]"
   ]
  },
  {
   "cell_type": "code",
   "execution_count": 6,
   "metadata": {},
   "outputs": [],
   "source": [
    "from imblearn.over_sampling import SMOTE\n",
    "from sklearn.feature_extraction.text import CountVectorizer\n",
    "from sklearn.naive_bayes import MultinomialNB"
   ]
  },
  {
   "cell_type": "code",
   "execution_count": 7,
   "metadata": {},
   "outputs": [],
   "source": [
    "from imblearn.pipeline import Pipeline\n",
    "textclassifier=Pipeline([\n",
    "    CountVectorizer(),\n",
    "    SMOTE(random_state=12),\n",
    "    MultinomialNB(alpha=0.1)\n",
    "])"
   ]
  },
  {
   "cell_type": "code",
   "execution_count": 8,
   "metadata": {},
   "outputs": [
    {
     "name": "stdout",
     "output_type": "stream",
     "text": [
      "517\n"
     ]
    }
   ],
   "source": [
    "intent_set=set(intent_list)\n",
    "intent_list_unique=[]\n",
    "for i in intent_list:\n",
    "    if not i in intent_list_unique:\n",
    "        intent_list_unique.append(i)\n",
    "print(len(intent_list_unique))"
   ]
  },
  {
   "cell_type": "code",
   "execution_count": 9,
   "metadata": {},
   "outputs": [],
   "source": [
    "dict_list=dict()\n",
    "for i in range(len(intent_list_unique)):\n",
    "    dict_list[intent_list_unique[i]]=i"
   ]
  },
  {
   "cell_type": "code",
   "execution_count": 10,
   "metadata": {},
   "outputs": [
    {
     "data": {
      "text/html": [
       "<div>\n",
       "<style scoped>\n",
       "    .dataframe tbody tr th:only-of-type {\n",
       "        vertical-align: middle;\n",
       "    }\n",
       "\n",
       "    .dataframe tbody tr th {\n",
       "        vertical-align: top;\n",
       "    }\n",
       "\n",
       "    .dataframe thead th {\n",
       "        text-align: right;\n",
       "    }\n",
       "</style>\n",
       "<table border=\"1\" class=\"dataframe\">\n",
       "  <thead>\n",
       "    <tr style=\"text-align: right;\">\n",
       "      <th></th>\n",
       "      <th>intent_name</th>\n",
       "      <th>text</th>\n",
       "    </tr>\n",
       "  </thead>\n",
       "  <tbody>\n",
       "    <tr>\n",
       "      <th>0</th>\n",
       "      <td>Jobs_Location</td>\n",
       "      <td>\\nGood morning, I want to apply for a vacancy ...</td>\n",
       "    </tr>\n",
       "    <tr>\n",
       "      <th>1</th>\n",
       "      <td>Jobs_Location</td>\n",
       "      <td>I'm looking for a job. I'm from Manaus Amazonas</td>\n",
       "    </tr>\n",
       "    <tr>\n",
       "      <th>2</th>\n",
       "      <td>Jobs_Location</td>\n",
       "      <td>\"Hi, I'm a 24 years old lawyer from Caracas, V...</td>\n",
       "    </tr>\n",
       "    <tr>\n",
       "      <th>3</th>\n",
       "      <td>Jobs_Location</td>\n",
       "      <td>'m looking for Call Center jobs for Sprint in MN</td>\n",
       "    </tr>\n",
       "    <tr>\n",
       "      <th>4</th>\n",
       "      <td>Jobs_Location</td>\n",
       "      <td>7062549950 I am interested in working in Evans...</td>\n",
       "    </tr>\n",
       "  </tbody>\n",
       "</table>\n",
       "</div>"
      ],
      "text/plain": [
       "     intent_name                                               text\n",
       "0  Jobs_Location  \\nGood morning, I want to apply for a vacancy ...\n",
       "1  Jobs_Location    I'm looking for a job. I'm from Manaus Amazonas\n",
       "2  Jobs_Location  \"Hi, I'm a 24 years old lawyer from Caracas, V...\n",
       "3  Jobs_Location   'm looking for Call Center jobs for Sprint in MN\n",
       "4  Jobs_Location  7062549950 I am interested in working in Evans..."
      ]
     },
     "execution_count": 10,
     "metadata": {},
     "output_type": "execute_result"
    }
   ],
   "source": [
    "df.head()"
   ]
  },
  {
   "cell_type": "code",
   "execution_count": 11,
   "metadata": {},
   "outputs": [],
   "source": [
    "for i in range(len(df)):\n",
    "    temp=df['intent_name'][i]\n",
    "    df['intent_name'][i]=dict_list[temp]"
   ]
  },
  {
   "cell_type": "code",
   "execution_count": 12,
   "metadata": {},
   "outputs": [],
   "source": [
    "from sklearn.model_selection import train_test_split\n",
    "x_train,x_test,y_train,y_test=train_test_split(df.text,df.intent_name,test_size=0.3,stratify=df.intent_name)"
   ]
  },
  {
   "cell_type": "code",
   "execution_count": 13,
   "metadata": {},
   "outputs": [
    {
     "ename": "SyntaxError",
     "evalue": "invalid syntax (1111177464.py, line 5)",
     "output_type": "error",
     "traceback": [
      "\u001b[0;36m  Input \u001b[0;32mIn [13]\u001b[0;36m\u001b[0m\n\u001b[0;31m    y_train.\u001b[0m\n\u001b[0m            ^\u001b[0m\n\u001b[0;31mSyntaxError\u001b[0m\u001b[0;31m:\u001b[0m invalid syntax\n"
     ]
    }
   ],
   "source": [
    "from sklearn.feature_extraction.text import CountVectorizer\n",
    "vector=CountVectorizer()\n",
    "x_train_count=vector.fit_transform(x_train)\n",
    "\n",
    "y_train."
   ]
  }
 ],
 "metadata": {
  "kernelspec": {
   "display_name": "Python 3.9.12 ('base')",
   "language": "python",
   "name": "python3"
  },
  "language_info": {
   "codemirror_mode": {
    "name": "ipython",
    "version": 3
   },
   "file_extension": ".py",
   "mimetype": "text/x-python",
   "name": "python",
   "nbconvert_exporter": "python",
   "pygments_lexer": "ipython3",
   "version": "3.9.12"
  },
  "orig_nbformat": 4,
  "vscode": {
   "interpreter": {
    "hash": "baffd83d0545dae28acbff2aa4b37d5e4c9380540cd30db7e01732f3b39091be"
   }
  }
 },
 "nbformat": 4,
 "nbformat_minor": 2
}
